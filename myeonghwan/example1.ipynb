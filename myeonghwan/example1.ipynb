{
 "cells": [
  {
   "cell_type": "code",
   "execution_count": 7,
   "metadata": {},
   "outputs": [],
   "source": [
    "from bs4 import BeautifulSoup\n",
    "import requests"
   ]
  },
  {
   "cell_type": "code",
   "execution_count": null,
   "metadata": {},
   "outputs": [],
   "source": []
  },
  {
   "cell_type": "code",
   "execution_count": 22,
   "metadata": {},
   "outputs": [
    {
     "name": "stdout",
     "output_type": "stream",
     "text": [
      "\n",
      "https://files.freemusicarchive.org/storage-freemusicarchive-org/music/no_curator/Monplaisir/Heat_of_the_Summer/Monplaisir_-_04_-_Stage_1_Level_24.mp3\n",
      "\n",
      "https://files.freemusicarchive.org/storage-freemusicarchive-org/music/no_curator/Monplaisir/Heat_of_the_Summer/Monplaisir_-_11_-_Estampe_Galactus_Barbare_Epaul_Giraffe_Ennui.mp3\n",
      "\n",
      "https://files.freemusicarchive.org/storage-freemusicarchive-org/music/no_curator/Monplaisir/Surtout_ne_pas_se_perdre_2011-2016/Monplaisir_-_01_-_Everything_is_true.mp3\n",
      "\n",
      "https://files.freemusicarchive.org/storage-freemusicarchive-org/music/no_curator/Monplaisir/Surtout_ne_pas_se_perdre_2011-2016/Monplaisir_-_02_-_alandmine.mp3\n",
      "\n",
      "https://files.freemusicarchive.org/storage-freemusicarchive-org/music/no_curator/Komiku/Its_time_for_adventure_/Komiku_-_08_-_Un_dsert.mp3\n",
      "\n",
      "https://files.freemusicarchive.org/storage-freemusicarchive-org/music/no_curator/Komiku/Its_time_for_adventure__vol_2/Komiku_-_02_-_Chill_Out_Theme.mp3\n",
      "\n",
      "https://files.freemusicarchive.org/storage-freemusicarchive-org/music/Music_for_Video/Monplaisir/Baisers_de_Sonora/Monplaisir_-_13_-_Mexico_DF_1996.mp3\n",
      "\n",
      "https://files.freemusicarchive.org/storage-freemusicarchive-org/music/no_curator/Monplaisir/Bonjour_from_Paris_Nantes_and_Montreal/Monplaisir_-_01_-_Hlice.mp3\n",
      "\n",
      "https://files.freemusicarchive.org/storage-freemusicarchive-org/music/no_curator/Monplaisir/Bonjour_from_Paris_Nantes_and_Montreal/Monplaisir_-_04_-_Dormir_rien_de_plus.mp3\n",
      "\n",
      "https://files.freemusicarchive.org/storage-freemusicarchive-org/music/Music_for_Video/Monplaisir/Lack_of_Feedback/Monplaisir_-_01_-_Bonsoir.mp3\n",
      "\n",
      "https://files.freemusicarchive.org/storage-freemusicarchive-org/music/no_curator/Monplaisir/Sky/Monplaisir_-_05_-_Sky_5__The_Rise_The_Walk_The_Hope.mp3\n",
      "\n",
      "https://files.freemusicarchive.org/storage-freemusicarchive-org/music/Music_for_Video/Komiku/The_Binge_Watchers__Score_1/Komiku_-_10_-_Ambiant_Hope.mp3\n",
      "\n",
      "https://files.freemusicarchive.org/storage-freemusicarchive-org/music/Music_for_Video/Komiku/Its_time_for_adventure__vol_4/Komiku_-_03_-_Where_you_hear_the_prayer_McGuffin_theme.mp3\n",
      "\n",
      "https://files.freemusicarchive.org/storage-freemusicarchive-org/music/Music_for_Video/Komiku/Its_time_for_adventure__vol_4/Komiku_-_04_-_I_got_99_broadswords_but_this_one_isnt_one_stores_theme.mp3\n",
      "\n",
      "https://files.freemusicarchive.org/storage-freemusicarchive-org/music/Music_for_Video/Komiku/Its_time_for_adventure__vol_4/Komiku_-_13_-_Nothing_will_grow_here.mp3\n",
      "\n",
      "https://files.freemusicarchive.org/storage-freemusicarchive-org/music/no_curator/Soft_and_Furious/The_Merfolk_I_Should_Turn_To_Be/Soft_and_Furious_-_02_-_Youre_no_good_but_I_love_you.mp3\n",
      "\n",
      "https://files.freemusicarchive.org/storage-freemusicarchive-org/music/no_curator/Soft_and_Furious/The_Merfolk_I_Should_Turn_To_Be/Soft_and_Furious_-_06_-_Superconnected_sleep.mp3\n",
      "\n",
      "https://files.freemusicarchive.org/storage-freemusicarchive-org/music/WFMU/Alpha_Hydrae/Peace_Love_Respect_Overdrive/Alpha_Hydrae_-_16_-_Trouve_dans_la_traduction.mp3\n",
      "\n",
      "https://files.freemusicarchive.org/storage-freemusicarchive-org/music/WFMU/Alpha_Hydrae/Et_Recule/Alpha_Hydrae_-_05_-_Friends_and_Apples.mp3\n",
      "\n",
      "https://files.freemusicarchive.org/storage-freemusicarchive-org/music/Music_for_Video/Alpha_Hydrae/uu_/Alpha_Hydrae_-_04_-_Keratine_rust_and_a_clear_soul.mp3\n",
      "\n",
      "https://files.freemusicarchive.org/storage-freemusicarchive-org/music/no_curator/Soft_and_Furious/The_Man_Im_Not/Soft_and_Furious_-_01_-_So_What.mp3\n",
      "\n",
      "https://files.freemusicarchive.org/storage-freemusicarchive-org/music/no_curator/Soft_and_Furious/The_Man_Im_Not/Soft_and_Furious_-_10_-_Melancholic_Ending.mp3\n",
      "\n",
      "https://files.freemusicarchive.org/storage-freemusicarchive-org/music/no_curator/KieLoKaz/Free_Ganymed/KieLoKaz_-_07_-_Alte_Herren_Kielokaz_ID_364.mp3\n",
      "\n",
      "https://files.freemusicarchive.org/storage-freemusicarchive-org/music/Music_for_Video/Blue_Dot_Sessions/RadioPink/Blue_Dot_Sessions_-_Slow_Rollout.mp3\n",
      "\n",
      "https://files.freemusicarchive.org/storage-freemusicarchive-org/music/none_given/TRG_Banks/TRG_Banks_-_Singles/TRG_Banks_-_Grandpas_great_escape.mp3\n",
      "\n",
      "https://files.freemusicarchive.org/storage-freemusicarchive-org/music/Headphonica/Cagey_House/Bottles_and_Bulletins/Cagey_House_-_01_-_Antic_Reanimated.mp3\n",
      "\n",
      "https://files.freemusicarchive.org/storage-freemusicarchive-org/music/Nul_Tiel_Records/Xylo-Ziko/Minimal/Xylo-Ziko_-_02_-_Phase_2.mp3\n",
      "\n",
      "https://files.freemusicarchive.org/storage-freemusicarchive-org/music/no_curator/Scott_Holmes/Inspiring__Upbeat_Music/Scott_Holmes_-_06_-_Clear_Progress.mp3\n",
      "\n",
      "https://files.freemusicarchive.org/storage-freemusicarchive-org/music/WFMU/junior85/Left_For_Deadish/junior85_-_Left_For_Deadish.mp3\n",
      "\n",
      "https://files.freemusicarchive.org/storage-freemusicarchive-org/music/Music_for_Video/springtide/Sounds_strange_weird_but_unmistakably_romantic_Vol1/springtide_-_03_-_We_Are_Heading_to_the_East.mp3\n",
      "\n",
      "https://files.freemusicarchive.org/storage-freemusicarchive-org/music/West_Cortez_Records/David_Hilowitz/Gradual_Sunrise/David_Hilowitz_-_Gradual_Sunrise.mp3\n",
      "\n",
      "https://files.freemusicarchive.org/storage-freemusicarchive-org/music/no_curator/Cambo/Cambo_-_Singles/Cambo_-_01_-_Coffee.mp3\n",
      "\n",
      "https://files.freemusicarchive.org/storage-freemusicarchive-org/music/WFMU/Broke_For_Free/Directionless_EP/Broke_For_Free_-_01_-_Night_Owl.mp3\n",
      "\n",
      "https://files.freemusicarchive.org/storage-freemusicarchive-org/music/no_curator/Tours/Enthusiast/Tours_-_01_-_Enthusiast.mp3\n",
      "\n",
      "https://files.freemusicarchive.org/storage-freemusicarchive-org/music/WFMU/Monk_Turner__Fascinoma/The_New_Birthday_Song_Contest/Monk_Turner__Fascinoma_-_01_-_Its_Your_Birthday.mp3\n",
      "\n",
      "https://files.freemusicarchive.org/storage-freemusicarchive-org/music/ccCommunity/eddy/2_Damn_Loud/eddy_-_01_-_Pure_Adrenaline.mp3\n",
      "\n",
      "https://files.freemusicarchive.org/storage-freemusicarchive-org/music/Music_for_Video/A_A_Aalto/Connections/A_A_Aalto_-_Focus.mp3\n",
      "\n",
      "https://files.freemusicarchive.org/storage-freemusicarchive-org/music/no_curator/Jahzzar/Travellers_Guide_Excerpt/Jahzzar_-_05_-_Siesta.mp3\n",
      "\n",
      "https://files.freemusicarchive.org/storage-freemusicarchive-org/music/none_given/BenJamin_Banger/BenJamin_Banger_-_Singles/BenJamin_Banger_-_01_-_Bobby_Drake.mp3\n",
      "\n",
      "https://files.freemusicarchive.org/storage-freemusicarchive-org/music/Music_for_Video/Podington_Bear/Solo_Instruments/Podington_Bear_-_Starling.mp3\n",
      "\n",
      "https://files.freemusicarchive.org/storage-freemusicarchive-org/music/ccCommunity/Dee_Yan-Key/Frdric_would_cry/Dee_Yan-Key_-_01_-_That_aint_Chopin.mp3\n",
      "\n",
      "https://files.freemusicarchive.org/storage-freemusicarchive-org/music/Music_for_Video/Blue_Dot_Sessions/Love_and_Weasel/Blue_Dot_Sessions_-_04_-_Cupcake_Marshall.mp3\n"
     ]
    }
   ],
   "source": [
    "from bs4 import BeautifulSoup\n",
    "import requests\n",
    "\n",
    "r = requests.get(\"https://freemusicarchive.org/static\")\n",
    "html = r.text\n",
    "soup = BeautifulSoup(html, 'html.parser')\n",
    "\n",
    "my_titles = soup.select('a.icn-arrow')\n",
    "for title in my_titles:\n",
    "    print(title.text) #Tag 안에 텍스트 가져오기\n",
    "    print(title.get('href')) #Tag의 속성 가져오기"
   ]
  },
  {
   "cell_type": "code",
   "execution_count": null,
   "metadata": {},
   "outputs": [],
   "source": []
  }
 ],
 "metadata": {
  "kernelspec": {
   "display_name": "Python 3",
   "language": "python",
   "name": "python3"
  },
  "language_info": {
   "codemirror_mode": {
    "name": "ipython",
    "version": 3
   },
   "file_extension": ".py",
   "mimetype": "text/x-python",
   "name": "python",
   "nbconvert_exporter": "python",
   "pygments_lexer": "ipython3",
   "version": "3.7.6"
  }
 },
 "nbformat": 4,
 "nbformat_minor": 4
}
