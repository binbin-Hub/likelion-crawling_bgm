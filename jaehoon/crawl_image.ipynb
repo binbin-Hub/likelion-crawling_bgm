{
 "cells": [
  {
   "cell_type": "code",
   "execution_count": 8,
   "metadata": {
    "jupyter": {
     "outputs_hidden": true
    }
   },
   "outputs": [
    {
     "name": "stdout",
     "output_type": "stream",
     "text": [
      "Requirement already satisfied: request in /Users/jaehoonkim/anaconda3/envs/days_pandas/lib/python3.7/site-packages (0.0.0)\n",
      "Requirement already satisfied: post in /Users/jaehoonkim/anaconda3/envs/days_pandas/lib/python3.7/site-packages (from request) (0.0.0)\n",
      "Requirement already satisfied: get in /Users/jaehoonkim/anaconda3/envs/days_pandas/lib/python3.7/site-packages (from request) (0.0.0)\n",
      "Requirement already satisfied: query-string in /Users/jaehoonkim/anaconda3/envs/days_pandas/lib/python3.7/site-packages (from get->request) (0.0.0)\n",
      "Note: you may need to restart the kernel to use updated packages.\n"
     ]
    }
   ],
   "source": [
    "pip install request"
   ]
  },
  {
   "cell_type": "code",
   "execution_count": 9,
   "metadata": {
    "collapsed": true,
    "jupyter": {
     "outputs_hidden": true
    }
   },
   "outputs": [
    {
     "name": "stdout",
     "output_type": "stream",
     "text": [
      "Collecting BeautifulSoup\n",
      "  Using cached BeautifulSoup-3.2.2.tar.gz (32 kB)\n",
      "\u001b[31m    ERROR: Command errored out with exit status 1:\n",
      "     command: /Users/jaehoonkim/anaconda3/envs/days_pandas/bin/python -c 'import sys, setuptools, tokenize; sys.argv[0] = '\"'\"'/private/var/folders/5g/pv3f662j3f9_k14v559x9k7c0000gn/T/pip-install-uzgz7uhu/BeautifulSoup/setup.py'\"'\"'; __file__='\"'\"'/private/var/folders/5g/pv3f662j3f9_k14v559x9k7c0000gn/T/pip-install-uzgz7uhu/BeautifulSoup/setup.py'\"'\"';f=getattr(tokenize, '\"'\"'open'\"'\"', open)(__file__);code=f.read().replace('\"'\"'\\r\\n'\"'\"', '\"'\"'\\n'\"'\"');f.close();exec(compile(code, __file__, '\"'\"'exec'\"'\"'))' egg_info --egg-base /private/var/folders/5g/pv3f662j3f9_k14v559x9k7c0000gn/T/pip-install-uzgz7uhu/BeautifulSoup/pip-egg-info\n",
      "         cwd: /private/var/folders/5g/pv3f662j3f9_k14v559x9k7c0000gn/T/pip-install-uzgz7uhu/BeautifulSoup/\n",
      "    Complete output (6 lines):\n",
      "    Traceback (most recent call last):\n",
      "      File \"<string>\", line 1, in <module>\n",
      "      File \"/private/var/folders/5g/pv3f662j3f9_k14v559x9k7c0000gn/T/pip-install-uzgz7uhu/BeautifulSoup/setup.py\", line 3\n",
      "        \"You're trying to run a very old release of Beautiful Soup under Python 3. This will not work.\"<>\"Please use Beautiful Soup 4, available through the pip package 'beautifulsoup4'.\"\n",
      "                                                                                                        ^\n",
      "    SyntaxError: invalid syntax\n",
      "    ----------------------------------------\u001b[0m\n",
      "\u001b[31mERROR: Command errored out with exit status 1: python setup.py egg_info Check the logs for full command output.\u001b[0m\n",
      "Note: you may need to restart the kernel to use updated packages.\n"
     ]
    }
   ],
   "source": [
    "pip install BeautifulSoup"
   ]
  },
  {
   "cell_type": "code",
   "execution_count": 48,
   "metadata": {},
   "outputs": [],
   "source": [
    "import requests\n",
    "from bs4 import BeautifulSoup as bs\n",
    "\n",
    "def url_get(keyword=\"coffee\"):\n",
    "    URL = \"https://unsplash.com/s/photos/%s\" %keyword\n",
    "    response = requests.get(URL)\n",
    "    html = response.text\n",
    "    soup = bs(html, 'html.parser')\n",
    "\n",
    "    photoURL_ls = []\n",
    "\n",
    "    for i in soup.select('div.nDTlD'):\n",
    "        for j in str(i).split():\n",
    "            if 'href' in j and j.startswith('href=\"/photos/'):\n",
    "                temp = \"https://unsplash.com\"+j.replace('href=\"','').replace('\"','')\n",
    "                photoURL_ls.append(temp)\n",
    "    return photoURL_ls\n"
   ]
  },
  {
   "cell_type": "code",
   "execution_count": 51,
   "metadata": {},
   "outputs": [
    {
     "data": {
      "text/plain": [
       "'https://unsplash.com/photos/tNALoIZhqVM'"
      ]
     },
     "execution_count": 51,
     "metadata": {},
     "output_type": "execute_result"
    }
   ],
   "source": [
    "url_get()[0]"
   ]
  }
 ],
 "metadata": {
  "kernelspec": {
   "display_name": "Python 3",
   "language": "python",
   "name": "python3"
  },
  "language_info": {
   "codemirror_mode": {
    "name": "ipython",
    "version": 3
   },
   "file_extension": ".py",
   "mimetype": "text/x-python",
   "name": "python",
   "nbconvert_exporter": "python",
   "pygments_lexer": "ipython3",
   "version": "3.7.6"
  }
 },
 "nbformat": 4,
 "nbformat_minor": 4
}
