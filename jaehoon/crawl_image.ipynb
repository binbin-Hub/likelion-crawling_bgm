{
 "cells": [
  {
   "cell_type": "code",
   "execution_count": 8,
   "metadata": {
    "jupyter": {
     "outputs_hidden": true
    }
   },
   "outputs": [
    {
     "name": "stdout",
     "output_type": "stream",
     "text": [
      "Requirement already satisfied: request in /Users/jaehoonkim/anaconda3/envs/days_pandas/lib/python3.7/site-packages (0.0.0)\n",
      "Requirement already satisfied: post in /Users/jaehoonkim/anaconda3/envs/days_pandas/lib/python3.7/site-packages (from request) (0.0.0)\n",
      "Requirement already satisfied: get in /Users/jaehoonkim/anaconda3/envs/days_pandas/lib/python3.7/site-packages (from request) (0.0.0)\n",
      "Requirement already satisfied: query-string in /Users/jaehoonkim/anaconda3/envs/days_pandas/lib/python3.7/site-packages (from get->request) (0.0.0)\n",
      "Note: you may need to restart the kernel to use updated packages.\n"
     ]
    }
   ],
   "source": [
    "pip install request"
   ]
  },
  {
   "cell_type": "code",
   "execution_count": 9,
   "metadata": {
    "collapsed": true,
    "jupyter": {
     "outputs_hidden": true
    }
   },
   "outputs": [
    {
     "name": "stdout",
     "output_type": "stream",
     "text": [
      "Collecting BeautifulSoup\n",
      "  Using cached BeautifulSoup-3.2.2.tar.gz (32 kB)\n",
      "\u001b[31m    ERROR: Command errored out with exit status 1:\n",
      "     command: /Users/jaehoonkim/anaconda3/envs/days_pandas/bin/python -c 'import sys, setuptools, tokenize; sys.argv[0] = '\"'\"'/private/var/folders/5g/pv3f662j3f9_k14v559x9k7c0000gn/T/pip-install-uzgz7uhu/BeautifulSoup/setup.py'\"'\"'; __file__='\"'\"'/private/var/folders/5g/pv3f662j3f9_k14v559x9k7c0000gn/T/pip-install-uzgz7uhu/BeautifulSoup/setup.py'\"'\"';f=getattr(tokenize, '\"'\"'open'\"'\"', open)(__file__);code=f.read().replace('\"'\"'\\r\\n'\"'\"', '\"'\"'\\n'\"'\"');f.close();exec(compile(code, __file__, '\"'\"'exec'\"'\"'))' egg_info --egg-base /private/var/folders/5g/pv3f662j3f9_k14v559x9k7c0000gn/T/pip-install-uzgz7uhu/BeautifulSoup/pip-egg-info\n",
      "         cwd: /private/var/folders/5g/pv3f662j3f9_k14v559x9k7c0000gn/T/pip-install-uzgz7uhu/BeautifulSoup/\n",
      "    Complete output (6 lines):\n",
      "    Traceback (most recent call last):\n",
      "      File \"<string>\", line 1, in <module>\n",
      "      File \"/private/var/folders/5g/pv3f662j3f9_k14v559x9k7c0000gn/T/pip-install-uzgz7uhu/BeautifulSoup/setup.py\", line 3\n",
      "        \"You're trying to run a very old release of Beautiful Soup under Python 3. This will not work.\"<>\"Please use Beautiful Soup 4, available through the pip package 'beautifulsoup4'.\"\n",
      "                                                                                                        ^\n",
      "    SyntaxError: invalid syntax\n",
      "    ----------------------------------------\u001b[0m\n",
      "\u001b[31mERROR: Command errored out with exit status 1: python setup.py egg_info Check the logs for full command output.\u001b[0m\n",
      "Note: you may need to restart the kernel to use updated packages.\n"
     ]
    }
   ],
   "source": [
    "pip install BeautifulSoup"
   ]
  },
  {
   "cell_type": "code",
   "execution_count": 185,
   "metadata": {},
   "outputs": [],
   "source": [
    "import requests\n",
    "from bs4 import BeautifulSoup as bs\n",
    "\n",
    "def url_get(keyword=\"coffee\"):\n",
    "    URL = \"https://unsplash.com/s/photos/%s\" %keyword\n",
    "    response = requests.get(URL)\n",
    "    html = response.text\n",
    "    soup = bs(html, 'html.parser')\n",
    "\n",
    "    photoURL_ls = []\n",
    "\n",
    "    for i in soup.select('div.nDTlD'):\n",
    "        for j in str(i).split():\n",
    "            if 'href' in j and j.startswith('href=\"/photos/'):\n",
    "                innerURL = \"https://unsplash.com\"+j.replace('href=\"','').replace('\"','')\n",
    "                innerResponse = requests.get(innerURL)\n",
    "                innerhtml = innerResponse.text\n",
    "                innerSoup = bs(innerhtml, 'html.parser')\n",
    "                temp = innerSoup.select('div._2yFK-.IEpfq > img._2zEKz')\n",
    "                for z in temp:\n",
    "                    photoURL_ls.append(z['src'])\n",
    "    photoURL_ls = set(photoURL_ls)\n",
    "    for i in photoURL_ls:\n",
    "        print(i)\n",
    "                \n",
    "\n",
    "            \n"
   ]
  },
  {
   "cell_type": "code",
   "execution_count": 186,
   "metadata": {},
   "outputs": [
    {
     "name": "stdout",
     "output_type": "stream",
     "text": [
      "https://images.unsplash.com/photo-1498804103079-a6351b050096?ixlib=rb-1.2.1&ixid=eyJhcHBfaWQiOjEyMDd9&auto=format&fit=crop&w=1000&q=80\n",
      "https://images.unsplash.com/photo-1511920170033-f8396924c348?ixlib=rb-1.2.1&auto=format&fit=crop&w=1000&q=80\n",
      "https://images.unsplash.com/photo-1507133750040-4a8f57021571?ixlib=rb-1.2.1&auto=format&fit=crop&w=1000&q=80\n",
      "https://images.unsplash.com/photo-1518057111178-44a106bad636?ixlib=rb-1.2.1&ixid=eyJhcHBfaWQiOjEyMDd9&auto=format&fit=crop&w=1000&q=80\n",
      "https://images.unsplash.com/photo-1530032582480-edd739014c39?ixlib=rb-1.2.1&ixid=eyJhcHBfaWQiOjEyMDd9&auto=format&fit=crop&w=1000&q=80\n",
      "https://images.unsplash.com/photo-1517487881594-2787fef5ebf7?ixlib=rb-1.2.1&ixid=eyJhcHBfaWQiOjEyMDd9&auto=format&fit=crop&w=1000&q=80\n",
      "https://images.unsplash.com/photo-1514432324607-a09d9b4aefdd?ixlib=rb-1.2.1&ixid=eyJhcHBfaWQiOjEyMDd9&auto=format&fit=crop&w=1000&q=80\n",
      "https://images.unsplash.com/photo-1447933601403-0c6688de566e?ixlib=rb-1.2.1&ixid=eyJhcHBfaWQiOjEyMDd9&auto=format&fit=crop&w=1000&q=80\n",
      "https://images.unsplash.com/photo-1497935586351-b67a49e012bf?ixlib=rb-1.2.1&ixid=eyJhcHBfaWQiOjEyMDd9&auto=format&fit=crop&w=1000&q=80\n",
      "https://images.unsplash.com/photo-1506619216599-9d16d0903dfd?ixlib=rb-1.2.1&ixid=eyJhcHBfaWQiOjEyMDd9&auto=format&fit=crop&w=1000&q=80\n",
      "https://images.unsplash.com/photo-1489533119213-66a5cd877091?ixlib=rb-1.2.1&ixid=eyJhcHBfaWQiOjEyMDd9&auto=format&fit=crop&w=1000&q=80\n",
      "https://images.unsplash.com/photo-1541870730196-cd1efcbf5649?ixlib=rb-1.2.1&auto=format&fit=crop&w=1000&q=80\n",
      "https://images.unsplash.com/photo-1509042239860-f550ce710b93?ixlib=rb-1.2.1&ixid=eyJhcHBfaWQiOjEyMDd9&auto=format&fit=crop&w=1000&q=80\n",
      "https://images.unsplash.com/photo-1522012188892-24beb302783d?ixlib=rb-1.2.1&ixid=eyJhcHBfaWQiOjEyMDd9&auto=format&fit=crop&w=1000&q=80\n",
      "https://images.unsplash.com/photo-1497515114629-f71d768fd07c?ixlib=rb-1.2.1&ixid=eyJhcHBfaWQiOjEyMDd9&auto=format&fit=crop&w=1000&q=80\n",
      "https://images.unsplash.com/photo-1458819714733-e5ab3d536722?ixlib=rb-1.2.1&ixid=eyJhcHBfaWQiOjEyMDd9&auto=format&fit=crop&w=1000&q=80\n",
      "https://images.unsplash.com/photo-1495474472287-4d71bcdd2085?ixlib=rb-1.2.1&ixid=eyJhcHBfaWQiOjEyMDd9&auto=format&fit=crop&w=1000&q=80\n",
      "https://images.unsplash.com/photo-1512568400610-62da28bc8a13?ixlib=rb-1.2.1&ixid=eyJhcHBfaWQiOjEyMDd9&auto=format&fit=crop&w=1000&q=80\n",
      "https://images.unsplash.com/photo-1521401292936-0a2129a30b1c?ixlib=rb-1.2.1&auto=format&fit=crop&w=1000&q=80\n",
      "https://images.unsplash.com/photo-1501747315-124a0eaca060?ixlib=rb-1.2.1&ixid=eyJhcHBfaWQiOjEyMDd9&auto=format&fit=crop&w=1000&q=80\n"
     ]
    }
   ],
   "source": [
    "url_get()"
   ]
  },
  {
   "cell_type": "code",
   "execution_count": 162,
   "metadata": {},
   "outputs": [
    {
     "data": {
      "text/plain": [
       "[]"
      ]
     },
     "execution_count": 162,
     "metadata": {},
     "output_type": "execute_result"
    }
   ],
   "source": [
    "photoURL_ls"
   ]
  },
  {
   "cell_type": "code",
   "execution_count": null,
   "metadata": {},
   "outputs": [],
   "source": [
    "#app > div > div:nth-child(3) > div > div:nth-child(1) > div._2QvSN > div > div > button > div._2yFK-.IEpfq > img"
   ]
  }
 ],
 "metadata": {
  "kernelspec": {
   "display_name": "Python 3",
   "language": "python",
   "name": "python3"
  },
  "language_info": {
   "codemirror_mode": {
    "name": "ipython",
    "version": 3
   },
   "file_extension": ".py",
   "mimetype": "text/x-python",
   "name": "python",
   "nbconvert_exporter": "python",
   "pygments_lexer": "ipython3",
   "version": "3.7.6"
  }
 },
 "nbformat": 4,
 "nbformat_minor": 4
}
